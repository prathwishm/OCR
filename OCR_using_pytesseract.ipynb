{
  "nbformat": 4,
  "nbformat_minor": 0,
  "metadata": {
    "colab": {
      "name": "OCR_using_pytesseract",
      "provenance": [],
      "authorship_tag": "ABX9TyMLLNamj/X+b1/7gZcTjUrc"
    },
    "kernelspec": {
      "name": "python3",
      "display_name": "Python 3"
    }
  },
  "cells": [
    {
      "cell_type": "markdown",
      "metadata": {
        "id": "GcMhahpJTY5X"
      },
      "source": [
        "**Installing the Packages**"
      ]
    },
    {
      "cell_type": "code",
      "metadata": {
        "id": "hr7rZzj1PDut"
      },
      "source": [
        "!pip install pytesseract\n",
        "!sudo apt install tesseract-ocr"
      ],
      "execution_count": null,
      "outputs": []
    },
    {
      "cell_type": "markdown",
      "metadata": {
        "id": "Ca5B5jinTgnr"
      },
      "source": [
        "**Importing the Libraries**"
      ]
    },
    {
      "cell_type": "code",
      "metadata": {
        "id": "DIQ-_aGdPEZD"
      },
      "source": [
        "import cv2\n",
        "import pytesseract\n",
        "from google.colab.patches import cv2_imshow"
      ],
      "execution_count": 6,
      "outputs": []
    },
    {
      "cell_type": "markdown",
      "metadata": {
        "id": "laA48pliTmdN"
      },
      "source": [
        "**Loading and Viewing the Image**"
      ]
    },
    {
      "cell_type": "code",
      "metadata": {
        "colab": {
          "base_uri": "https://localhost:8080/",
          "height": 126
        },
        "id": "cwmOlu-ZPHYo",
        "outputId": "131e4974-826a-4044-f584-a3b8ee38f7af"
      },
      "source": [
        "img = cv2.imread('/content/img.png')\n",
        "cv2_imshow(img)"
      ],
      "execution_count": 43,
      "outputs": [
        {
          "output_type": "display_data",
          "data": {
            "image/png": "[encoded data removed]",
            "text/plain": [
              "<PIL.Image.Image image mode=RGB size=334x109 at 0x7F91D035FBD0>"
            ]
          },
          "metadata": {
            "tags": []
          }
        }
      ]
    },
    {
      "cell_type": "markdown",
      "metadata": {
        "id": "PCSxTM7LTsGO"
      },
      "source": [
        "**Performing OCR and printing the output**"
      ]
    },
    {
      "cell_type": "code",
      "metadata": {
        "id": "mEvCCCfDTtwW"
      },
      "source": [
        "text = pytesseract.image_to_string(img, lang='eng')"
      ],
      "execution_count": 41,
      "outputs": []
    },
    {
      "cell_type": "code",
      "metadata": {
        "colab": {
          "base_uri": "https://localhost:8080/"
        },
        "id": "yZG-1uAST9vS",
        "outputId": "66e93df3-c1a5-479e-87c4-b75e703e3308"
      },
      "source": [
        "print(text)"
      ],
      "execution_count": 42,
      "outputs": [
        {
          "output_type": "stream",
          "text": [
            "Python is an interpreted, high-level and general-\n",
            "purpose programming language. Python's design\n",
            "philosophy emphasizes code readability with its\n",
            "notable use of significant indentation. Wikipedia\n",
            "\f\n"
          ],
          "name": "stdout"
        }
      ]
    },
    {
      "cell_type": "code",
      "metadata": {
        "id": "sRXqnTgaUF9F"
      },
      "source": [
        ""
      ],
      "execution_count": null,
      "outputs": []
    }
  ]
}